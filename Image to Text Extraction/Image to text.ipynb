{
 "cells": [
  {
   "cell_type": "code",
   "execution_count": 1,
   "metadata": {
    "scrolled": true
   },
   "outputs": [
    {
     "name": "stdout",
     "output_type": "stream",
     "text": [
      "Requirement already satisfied: opencv-python in c:\\habib python\\python_new\\lib\\site-packages (4.5.5.64)\n",
      "Requirement already satisfied: numpy>=1.14.5; python_version >= \"3.7\" in c:\\habib python\\python_new\\lib\\site-packages (from opencv-python) (1.19.2)\n"
     ]
    }
   ],
   "source": [
    "! pip install opencv-python"
   ]
  },
  {
   "cell_type": "code",
   "execution_count": 2,
   "metadata": {
    "scrolled": true
   },
   "outputs": [
    {
     "name": "stdout",
     "output_type": "stream",
     "text": [
      "Requirement already satisfied: pytesseract in c:\\habib python\\python_new\\lib\\site-packages (0.3.9)\n",
      "Requirement already satisfied: Pillow>=8.0.0 in c:\\habib python\\python_new\\lib\\site-packages (from pytesseract) (8.0.1)\n",
      "Requirement already satisfied: packaging>=21.3 in c:\\habib python\\python_new\\lib\\site-packages (from pytesseract) (21.3)\n",
      "Requirement already satisfied: pyparsing!=3.0.5,>=2.0.2 in c:\\habib python\\python_new\\lib\\site-packages (from packaging>=21.3->pytesseract) (2.4.7)\n"
     ]
    }
   ],
   "source": [
    "! pip install pytesseract"
   ]
  },
  {
   "cell_type": "code",
   "execution_count": 3,
   "metadata": {},
   "outputs": [],
   "source": [
    "from tkinter import *\n",
    "from tkinter import filedialog\n",
    "from PIL import ImageTk, Image\n",
    "import cv2\n",
    "import pytesseract \n",
    "\n",
    "pytesseract.pytesseract.tesseract_cmd = 'C:\\\\Program Files (x86)\\\\Tesseract-OCR\\\\tesseract.exe'\n",
    "\n",
    "root = Tk()\n",
    "root.title('S.H.Rehaman Image to text') \n",
    "\n",
    "newline= Label(root)\n",
    "uploaded_img=Label(root)\n",
    "scrollbar = Scrollbar(root)\n",
    "scrollbar.pack( side = RIGHT, fill = Y )\n",
    "\n",
    "\n",
    "def extract(path):\n",
    "    Actual_image = cv2.imread(path)\n",
    "    Sample_img = cv2.resize(Actual_image,(50,50))\n",
    "    Image_ht,Image_wd,Image_thickness = Sample_img.shape\n",
    "    Sample_img = cv2.cvtColor(Sample_img,cv2.COLOR_BGR2RGB)\n",
    "    texts = pytesseract.image_to_data(Sample_img) \n",
    "    mytext=\"\"\n",
    "    prevy=0\n",
    "    for cnt,text in enumerate(texts.splitlines()):\n",
    "        if cnt==0:\n",
    "            continue\n",
    "        text = text.split()\n",
    "        if len(text)==12:\n",
    "            x,y,w,h = int(text[6]),int(text[7]),int(text[8]),int(text[9])\n",
    "            if(len(mytext)==0):\n",
    "                prey=y\n",
    "            if(prevy-y>=10 or y-prevy>=10):\n",
    "                print(mytext)\n",
    "                Label(root,text=mytext,font=('Times',15,'bold')).pack()\n",
    "                mytext=\"\"\n",
    "            mytext = mytext + text[11]+\" \"\n",
    "            prevy=y\n",
    "    Label(root,text=mytext,font=('Times',15,'bold')).pack()\n",
    "\n",
    "def show_extract_button(path):\n",
    "    extractBtn= Button(root,text=\"Extract text\",command=lambda: extract(path),bg=\"#2f2f77\",fg=\"gray\",pady=15,padx=15,font=('Times',15,'bold'))\n",
    "    extractBtn.pack()\n",
    "\n",
    "def upload():\n",
    "    try:\n",
    "        path=filedialog.askopenfilename()\n",
    "        image=Image.open(path)\n",
    "        img=ImageTk.PhotoImage(image)\n",
    "        uploaded_img.configure(image=img)\n",
    "        uploaded_img.image=img\n",
    "        show_extract_button(path)\n",
    "    except:\n",
    "        pass  \n",
    "\n",
    "uploadbtn = Button(root,text=\"Upload an image\",command=upload,bg=\"#2f2f77\",fg=\"gray\",height=2,width=20,font=('Times',15,'bold')).pack()\n",
    "newline.configure(text='\\n')\n",
    "newline.pack()\n",
    "uploaded_img.pack()\n",
    "\n",
    "root.mainloop()"
   ]
  },
  {
   "cell_type": "code",
   "execution_count": null,
   "metadata": {},
   "outputs": [],
   "source": []
  },
  {
   "cell_type": "code",
   "execution_count": null,
   "metadata": {},
   "outputs": [],
   "source": []
  }
 ],
 "metadata": {
  "kernelspec": {
   "display_name": "Python 3",
   "language": "python",
   "name": "python3"
  },
  "language_info": {
   "codemirror_mode": {
    "name": "ipython",
    "version": 3
   },
   "file_extension": ".py",
   "mimetype": "text/x-python",
   "name": "python",
   "nbconvert_exporter": "python",
   "pygments_lexer": "ipython3",
   "version": "3.8.5"
  }
 },
 "nbformat": 4,
 "nbformat_minor": 4
}
